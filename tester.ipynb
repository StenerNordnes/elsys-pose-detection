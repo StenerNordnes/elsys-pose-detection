{
 "cells": [
  {
   "cell_type": "code",
   "execution_count": 2,
   "metadata": {},
   "outputs": [
    {
     "data": {
      "text/plain": [
       "True"
      ]
     },
     "execution_count": 2,
     "metadata": {},
     "output_type": "execute_result"
    }
   ],
   "source": [
    "import pandas as pd\n",
    "\n",
    "data = pd.read_csv('test_data.csv')\n",
    "\n",
    "file_name = data['file_name']\n",
    "label = data['class_name']\n",
    "\n",
    "\n",
    "bool_list = [name.split('\\\\')[0] == pred for name, pred in zip(file_name, label)]\n",
    "\n",
    "# check if all the predictions are correct\n",
    "is_correct = all(bool_list)\n",
    "\n",
    "is_correct"
   ]
  },
  {
   "cell_type": "code",
   "execution_count": 16,
   "metadata": {},
   "outputs": [],
   "source": [
    "from PIL import Image\n",
    "import tensorflow as tf\n",
    "from pose import detect\n",
    "\n",
    "def predictImage(image_path):\n",
    "    image = tf.io.read_file(image_path)\n",
    "    image = tf.io.decode_jpeg(image)\n",
    "\n",
    "    person = detect(image)\n",
    "\n",
    "\n",
    "imgpath = r'C:\\Users\\stene\\Desktop\\app_dev\\elsys-project\\elsys-pose-detection\\yoga_cg\\test\\cobra\\guy3_cobra026.jpg'\n",
    "predictImage(imgpath)"
   ]
  }
 ],
 "metadata": {
  "kernelspec": {
   "display_name": "env",
   "language": "python",
   "name": "python3"
  },
  "language_info": {
   "codemirror_mode": {
    "name": "ipython",
    "version": 3
   },
   "file_extension": ".py",
   "mimetype": "text/x-python",
   "name": "python",
   "nbconvert_exporter": "python",
   "pygments_lexer": "ipython3",
   "version": "3.11.2"
  }
 },
 "nbformat": 4,
 "nbformat_minor": 2
}
